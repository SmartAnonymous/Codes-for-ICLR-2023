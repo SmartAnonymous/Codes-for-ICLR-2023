{
 "cells": [
  {
   "cell_type": "code",
   "execution_count": 1,
   "id": "2449929d",
   "metadata": {},
   "outputs": [
    {
     "name": "stdout",
     "output_type": "stream",
     "text": [
      "Model loaded on cuda:0\n"
     ]
    },
    {
     "name": "stderr",
     "output_type": "stream",
     "text": [
      "/home/hxy/anaconda3/envs/timm/lib/python3.7/site-packages/torchvision/transforms/transforms.py:288: UserWarning: Argument interpolation should be of type InterpolationMode instead of int. Please, use InterpolationMode enum.\n",
      "  \"Argument interpolation should be of type InterpolationMode instead of int. \"\n"
     ]
    }
   ],
   "source": [
    "import os\n",
    "import sys\n",
    "import numpy as np\n",
    "from tqdm import tqdm\n",
    "from PIL import Image\n",
    "import random\n",
    "\n",
    "from utils import predictor\n",
    "\n",
    "val_dir = \"/home/workthu/zy/dataset/imagenet/imagenet_valset/\"\n",
    "Pred = predictor.predictor(device_name = \"cuda:0\", model_name = \"vit_tiny_patch16_224\")"
   ]
  },
  {
   "cell_type": "code",
   "execution_count": 2,
   "id": "056471e9",
   "metadata": {},
   "outputs": [],
   "source": [
    "random.seed(1)\n",
    "%mkdir results-ViT-t\n",
    "\n",
    "def ablation(n_abl, layers):\n",
    "    rand1_correct = 0\n",
    "    rand2_correct = 0\n",
    "    rand3_correct = 0\n",
    "    topn_correct = 0\n",
    "\n",
    "    zero_heads = np.arange(0, 3).tolist()\n",
    "\n",
    "    for i in tqdm(range(1000)):\n",
    "        label = Pred.cat_labels[i]\n",
    "        class_dir = val_dir + label\n",
    "        imgs_path = sorted(os.listdir(class_dir))\n",
    "\n",
    "        attns = np.load(\"./attns/ViT-t/\" + label + \".npy\")\n",
    "\n",
    "        for j in range(50):\n",
    "            attn = attns[11, j]\n",
    "            top10 = np.argsort(-attn[1:])[:n_abl] + 1\n",
    "\n",
    "            img_path = class_dir + \"/\" + imgs_path[j]\n",
    "\n",
    "            prob, cat, _, _ = Pred.predict_one(img_path, zero_lines = [layers, zero_heads, random.sample(range(1, 197), n_abl)])\n",
    "            rand1_correct += (cat == i)\n",
    "            prob, cat, _, _ = Pred.predict_one(img_path, zero_lines = [layers, zero_heads, random.sample(range(1, 197), n_abl)])\n",
    "            rand2_correct += (cat == i)\n",
    "            prob, cat, _, _ = Pred.predict_one(img_path, zero_lines = [layers, zero_heads, random.sample(range(1, 197), n_abl)])\n",
    "            rand3_correct += (cat == i)\n",
    "            prob, cat, _, _ = Pred.predict_one(img_path, zero_lines = [layers, zero_heads, top10])\n",
    "            topn_correct += (cat == i)\n",
    "    \n",
    "        if (i + 1) % 100 == 0:\n",
    "            print(i + 1, rand1_correct, rand2_correct, rand3_correct, topn_correct)\n",
    "            \n",
    "            f = open(\"results-ViT-t/abl-n\" + str(n_abl) + \"-l\" + str(layers) + \".txt\", \"a\")\n",
    "            f.write(str(i + 1) + \" \" + str(rand1_correct) + \" \" + str(rand2_correct) + \" \" + str(rand3_correct) + \" \" +\n",
    "                    str(topn_correct) + \"\\n\")\n",
    "            f.close()\n",
    "    \n",
    "    return(rand1_correct, rand2_correct, rand3_correct, topn_correct)"
   ]
  },
  {
   "cell_type": "code",
   "execution_count": 3,
   "id": "76f3da60",
   "metadata": {},
   "outputs": [
    {
     "name": "stderr",
     "output_type": "stream",
     "text": [
      " 10%|███████▋                                                                     | 100/1000 [09:51<1:26:02,  5.74s/it]"
     ]
    },
    {
     "name": "stdout",
     "output_type": "stream",
     "text": [
      "100 4081 4079 4092 4049\n"
     ]
    },
    {
     "name": "stderr",
     "output_type": "stream",
     "text": [
      " 20%|███████████████▍                                                             | 200/1000 [19:34<1:15:51,  5.69s/it]"
     ]
    },
    {
     "name": "stdout",
     "output_type": "stream",
     "text": [
      "200 8083 8081 8098 8007\n"
     ]
    },
    {
     "name": "stderr",
     "output_type": "stream",
     "text": [
      " 30%|███████████████████████                                                      | 300/1000 [29:23<1:18:22,  6.72s/it]"
     ]
    },
    {
     "name": "stdout",
     "output_type": "stream",
     "text": [
      "300 12018 12006 12035 11926\n"
     ]
    },
    {
     "name": "stderr",
     "output_type": "stream",
     "text": [
      " 40%|██████████████████████████████▊                                              | 400/1000 [39:42<1:06:35,  6.66s/it]"
     ]
    },
    {
     "name": "stdout",
     "output_type": "stream",
     "text": [
      "400 16086 16081 16107 15963\n"
     ]
    },
    {
     "name": "stderr",
     "output_type": "stream",
     "text": [
      " 50%|███████████████████████████████████████▌                                       | 500/1000 [50:04<50:55,  6.11s/it]"
     ]
    },
    {
     "name": "stdout",
     "output_type": "stream",
     "text": [
      "500 19508 19503 19537 19349\n"
     ]
    },
    {
     "name": "stderr",
     "output_type": "stream",
     "text": [
      " 60%|██████████████████████████████████████████████▏                              | 600/1000 [1:00:00<38:59,  5.85s/it]"
     ]
    },
    {
     "name": "stdout",
     "output_type": "stream",
     "text": [
      "600 23118 23108 23140 22936\n"
     ]
    },
    {
     "name": "stderr",
     "output_type": "stream",
     "text": [
      " 70%|█████████████████████████████████████████████████████▉                       | 700/1000 [1:09:33<28:49,  5.77s/it]"
     ]
    },
    {
     "name": "stdout",
     "output_type": "stream",
     "text": [
      "700 26505 26496 26532 26334\n"
     ]
    },
    {
     "name": "stderr",
     "output_type": "stream",
     "text": [
      " 80%|█████████████████████████████████████████████████████████████▌               | 800/1000 [1:19:13<18:39,  5.60s/it]"
     ]
    },
    {
     "name": "stdout",
     "output_type": "stream",
     "text": [
      "800 30021 30014 30059 29823\n"
     ]
    },
    {
     "name": "stderr",
     "output_type": "stream",
     "text": [
      " 90%|█████████████████████████████████████████████████████████████████████▎       | 900/1000 [1:28:47<09:26,  5.66s/it]"
     ]
    },
    {
     "name": "stdout",
     "output_type": "stream",
     "text": [
      "900 33456 33453 33502 33233\n"
     ]
    },
    {
     "name": "stderr",
     "output_type": "stream",
     "text": [
      "100%|████████████████████████████████████████████████████████████████████████████| 1000/1000 [1:38:48<00:00,  5.93s/it]"
     ]
    },
    {
     "name": "stdout",
     "output_type": "stream",
     "text": [
      "1000 37210 37203 37260 36977\n"
     ]
    },
    {
     "name": "stderr",
     "output_type": "stream",
     "text": [
      "\n"
     ]
    },
    {
     "data": {
      "text/plain": [
       "(37210, 37203, 37260, 36977)"
      ]
     },
     "execution_count": 3,
     "metadata": {},
     "output_type": "execute_result"
    }
   ],
   "source": [
    "ablation(n_abl = 10, layers = [11])"
   ]
  },
  {
   "cell_type": "code",
   "execution_count": 4,
   "id": "a9c60f9f",
   "metadata": {},
   "outputs": [
    {
     "name": "stderr",
     "output_type": "stream",
     "text": [
      " 10%|███████▋                                                                     | 100/1000 [09:55<1:26:32,  5.77s/it]"
     ]
    },
    {
     "name": "stdout",
     "output_type": "stream",
     "text": [
      "100 4084 4087 4080 4030\n"
     ]
    },
    {
     "name": "stderr",
     "output_type": "stream",
     "text": [
      " 20%|███████████████▍                                                             | 200/1000 [20:00<1:15:37,  5.67s/it]"
     ]
    },
    {
     "name": "stdout",
     "output_type": "stream",
     "text": [
      "200 8089 8088 8088 7982\n"
     ]
    },
    {
     "name": "stderr",
     "output_type": "stream",
     "text": [
      " 30%|███████████████████████                                                      | 300/1000 [29:46<1:18:31,  6.73s/it]"
     ]
    },
    {
     "name": "stdout",
     "output_type": "stream",
     "text": [
      "300 12015 12020 12020 11880\n"
     ]
    },
    {
     "name": "stderr",
     "output_type": "stream",
     "text": [
      " 40%|██████████████████████████████▊                                              | 400/1000 [39:42<1:01:00,  6.10s/it]"
     ]
    },
    {
     "name": "stdout",
     "output_type": "stream",
     "text": [
      "400 16075 16093 16087 15898\n"
     ]
    },
    {
     "name": "stderr",
     "output_type": "stream",
     "text": [
      " 50%|███████████████████████████████████████▌                                       | 500/1000 [49:22<46:30,  5.58s/it]"
     ]
    },
    {
     "name": "stdout",
     "output_type": "stream",
     "text": [
      "500 19490 19519 19508 19264\n"
     ]
    },
    {
     "name": "stderr",
     "output_type": "stream",
     "text": [
      " 60%|███████████████████████████████████████████████▍                               | 600/1000 [59:15<42:31,  6.38s/it]"
     ]
    },
    {
     "name": "stdout",
     "output_type": "stream",
     "text": [
      "600 23098 23126 23110 22832\n"
     ]
    },
    {
     "name": "stderr",
     "output_type": "stream",
     "text": [
      " 70%|█████████████████████████████████████████████████████▉                       | 700/1000 [1:08:52<28:54,  5.78s/it]"
     ]
    },
    {
     "name": "stdout",
     "output_type": "stream",
     "text": [
      "700 26487 26509 26499 26221\n"
     ]
    },
    {
     "name": "stderr",
     "output_type": "stream",
     "text": [
      " 80%|█████████████████████████████████████████████████████████████▌               | 800/1000 [1:18:33<18:36,  5.58s/it]"
     ]
    },
    {
     "name": "stdout",
     "output_type": "stream",
     "text": [
      "800 30004 30032 30017 29682\n"
     ]
    },
    {
     "name": "stderr",
     "output_type": "stream",
     "text": [
      " 90%|█████████████████████████████████████████████████████████████████████▎       | 900/1000 [1:28:08<09:29,  5.69s/it]"
     ]
    },
    {
     "name": "stdout",
     "output_type": "stream",
     "text": [
      "900 33449 33472 33453 33074\n"
     ]
    },
    {
     "name": "stderr",
     "output_type": "stream",
     "text": [
      "100%|████████████████████████████████████████████████████████████████████████████| 1000/1000 [1:37:51<00:00,  5.87s/it]"
     ]
    },
    {
     "name": "stdout",
     "output_type": "stream",
     "text": [
      "1000 37205 37228 37206 36797\n"
     ]
    },
    {
     "name": "stderr",
     "output_type": "stream",
     "text": [
      "\n"
     ]
    },
    {
     "data": {
      "text/plain": [
       "(37205, 37228, 37206, 36797)"
      ]
     },
     "execution_count": 4,
     "metadata": {},
     "output_type": "execute_result"
    }
   ],
   "source": [
    "ablation(n_abl = 20, layers = [11])"
   ]
  },
  {
   "cell_type": "code",
   "execution_count": null,
   "id": "a0fd98a6",
   "metadata": {},
   "outputs": [
    {
     "name": "stderr",
     "output_type": "stream",
     "text": [
      " 10%|███████▋                                                                     | 100/1000 [09:49<1:25:37,  5.71s/it]"
     ]
    },
    {
     "name": "stdout",
     "output_type": "stream",
     "text": [
      "100 4082 4081 4075 4029\n"
     ]
    },
    {
     "name": "stderr",
     "output_type": "stream",
     "text": [
      " 20%|███████████████▍                                                             | 200/1000 [19:29<1:15:25,  5.66s/it]"
     ]
    },
    {
     "name": "stdout",
     "output_type": "stream",
     "text": [
      "200 8091 8084 8064 7964\n"
     ]
    },
    {
     "name": "stderr",
     "output_type": "stream",
     "text": [
      " 30%|███████████████████████                                                      | 300/1000 [29:12<1:17:43,  6.66s/it]"
     ]
    },
    {
     "name": "stdout",
     "output_type": "stream",
     "text": [
      "300 12024 12019 11985 11841\n"
     ]
    },
    {
     "name": "stderr",
     "output_type": "stream",
     "text": [
      " 40%|██████████████████████████████▊                                              | 400/1000 [39:07<1:01:14,  6.12s/it]"
     ]
    },
    {
     "name": "stdout",
     "output_type": "stream",
     "text": [
      "400 16097 16088 16048 15860\n"
     ]
    },
    {
     "name": "stderr",
     "output_type": "stream",
     "text": [
      " 50%|███████████████████████████████████████▌                                       | 500/1000 [48:47<46:41,  5.60s/it]"
     ]
    },
    {
     "name": "stdout",
     "output_type": "stream",
     "text": [
      "500 19511 19512 19477 19212\n"
     ]
    },
    {
     "name": "stderr",
     "output_type": "stream",
     "text": [
      " 60%|███████████████████████████████████████████████▍                               | 600/1000 [59:05<43:26,  6.52s/it]"
     ]
    },
    {
     "name": "stdout",
     "output_type": "stream",
     "text": [
      "600 23104 23119 23091 22761\n"
     ]
    },
    {
     "name": "stderr",
     "output_type": "stream",
     "text": [
      " 70%|█████████████████████████████████████████████████████▉                       | 700/1000 [1:09:37<28:49,  5.77s/it]"
     ]
    },
    {
     "name": "stdout",
     "output_type": "stream",
     "text": [
      "700 26485 26507 26489 26136\n"
     ]
    },
    {
     "name": "stderr",
     "output_type": "stream",
     "text": [
      " 80%|█████████████████████████████████████████████████████████████▌               | 800/1000 [1:19:16<18:47,  5.64s/it]"
     ]
    },
    {
     "name": "stdout",
     "output_type": "stream",
     "text": [
      "800 30003 30010 30011 29578\n"
     ]
    },
    {
     "name": "stderr",
     "output_type": "stream",
     "text": [
      " 85%|█████████████████████████████████████████████████████████████████▍           | 850/1000 [1:24:06<14:20,  5.73s/it]"
     ]
    }
   ],
   "source": [
    "ablation(n_abl = 39, layers = [11])"
   ]
  },
  {
   "cell_type": "code",
   "execution_count": null,
   "id": "718915f2",
   "metadata": {},
   "outputs": [],
   "source": [
    "ablation(n_abl = 59, layers = [11])"
   ]
  },
  {
   "cell_type": "code",
   "execution_count": null,
   "id": "15984f29",
   "metadata": {},
   "outputs": [],
   "source": [
    "ablation(n_abl = 10, layers = [10, 11])"
   ]
  },
  {
   "cell_type": "code",
   "execution_count": null,
   "id": "47574a89",
   "metadata": {},
   "outputs": [],
   "source": [
    "ablation(n_abl = 20, layers = [10, 11])"
   ]
  }
 ],
 "metadata": {
  "kernelspec": {
   "display_name": "Python 3 (ipykernel)",
   "language": "python",
   "name": "python3"
  },
  "language_info": {
   "codemirror_mode": {
    "name": "ipython",
    "version": 3
   },
   "file_extension": ".py",
   "mimetype": "text/x-python",
   "name": "python",
   "nbconvert_exporter": "python",
   "pygments_lexer": "ipython3",
   "version": "3.7.11"
  }
 },
 "nbformat": 4,
 "nbformat_minor": 5
}
